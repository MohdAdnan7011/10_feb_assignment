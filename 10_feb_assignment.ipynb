{
 "cells": [
  {
   "cell_type": "code",
   "execution_count": 7,
   "id": "be75ade9-90a9-4a96-9db7-3c11b7277cb1",
   "metadata": {},
   "outputs": [],
   "source": [
    "# Question number 1\n",
    "#open() fxn is used to open a file\n",
    "# File can be open in varios mode like read , write , append so on"
   ]
  },
  {
   "cell_type": "code",
   "execution_count": 8,
   "id": "4045271e-032b-4703-99fc-58cb1af8960e",
   "metadata": {},
   "outputs": [],
   "source": [
    "# Question number 2\n",
    "# close() fxn is used to close the file properly it ensure that our file is close properly or not if not then our data can be misused too so thats why it is important to  close the file\n"
   ]
  },
  {
   "cell_type": "code",
   "execution_count": 9,
   "id": "f0562672-59cb-49fa-9c87-5c81f1ef3d04",
   "metadata": {},
   "outputs": [],
   "source": [
    "# Question number 3\n",
    "f = open(\"test.txt\", 'w')"
   ]
  },
  {
   "cell_type": "code",
   "execution_count": 10,
   "id": "0559fa42-de88-452e-bb66-9288a3cb9131",
   "metadata": {},
   "outputs": [
    {
     "data": {
      "text/plain": [
       "33"
      ]
     },
     "execution_count": 10,
     "metadata": {},
     "output_type": "execute_result"
    }
   ],
   "source": [
    "f.write(\"I want to become a data scientist\")"
   ]
  },
  {
   "cell_type": "code",
   "execution_count": 11,
   "id": "bc0b2d38-c98b-4c25-8934-5c4c119b0181",
   "metadata": {},
   "outputs": [],
   "source": [
    "f.close()"
   ]
  },
  {
   "cell_type": "code",
   "execution_count": 12,
   "id": "6df77a77-21a1-4bc5-9c03-b6e16b0f437f",
   "metadata": {},
   "outputs": [
    {
     "data": {
      "text/plain": [
       "'I want to become a data scientist'"
      ]
     },
     "execution_count": 12,
     "metadata": {},
     "output_type": "execute_result"
    }
   ],
   "source": [
    "data = open(\"test.txt\", 'r')\n",
    "data.read()"
   ]
  },
  {
   "cell_type": "code",
   "execution_count": 18,
   "id": "3ba306ca-af3b-43eb-af5c-943133136bc3",
   "metadata": {},
   "outputs": [
    {
     "data": {
      "text/plain": [
       "['I want to become a data scientist']"
      ]
     },
     "execution_count": 18,
     "metadata": {},
     "output_type": "execute_result"
    }
   ],
   "source": [
    "# Question number 4\n",
    "# as read is describe above \n",
    "data.readlines()"
   ]
  },
  {
   "cell_type": "code",
   "execution_count": 17,
   "id": "7084a8f5-a3a7-4048-8083-fdad4159c624",
   "metadata": {},
   "outputs": [
    {
     "data": {
      "text/plain": [
       "0"
      ]
     },
     "execution_count": 17,
     "metadata": {},
     "output_type": "execute_result"
    }
   ],
   "source": [
    "data.seek(0)"
   ]
  },
  {
   "cell_type": "code",
   "execution_count": 19,
   "id": "8e224358-58b2-455d-92ff-367e91cb245b",
   "metadata": {},
   "outputs": [
    {
     "data": {
      "text/plain": [
       "0"
      ]
     },
     "execution_count": 19,
     "metadata": {},
     "output_type": "execute_result"
    }
   ],
   "source": [
    "data.readlines()\n",
    "data.seek(0)"
   ]
  },
  {
   "cell_type": "code",
   "execution_count": 20,
   "id": "56ef1824-4e5a-4a2a-a596-619e204fa4d5",
   "metadata": {},
   "outputs": [],
   "source": [
    "# Question number 5\n",
    "# It is used to open a file and also ensure that file is properly closed or not after execution of program"
   ]
  },
  {
   "cell_type": "code",
   "execution_count": 21,
   "id": "9d1a7322-7da7-4a62-b0ad-859254080937",
   "metadata": {},
   "outputs": [],
   "source": [
    "import csv\n",
    "data = [ [\"Name\", \"Email_id\", \"phone_number\"],\n",
    "         [\"Adnan\", \"Adnan@gmail.com\", 986754323],\n",
    "        [\"Shahukar\", \"Shahukar@gmail.com\", 876754389],\n",
    "        [\"Parwej\", \"Parwej@gmail.com\", 908654127],\n",
    "        \n",
    "]"
   ]
  },
  {
   "cell_type": "code",
   "execution_count": null,
   "id": "f295d198-06aa-4fb8-8789-04eb5832c5c1",
   "metadata": {},
   "outputs": [],
   "source": [
    "with open(\"data.csv\", 'w') as f"
   ]
  }
 ],
 "metadata": {
  "kernelspec": {
   "display_name": "Python 3 (ipykernel)",
   "language": "python",
   "name": "python3"
  },
  "language_info": {
   "codemirror_mode": {
    "name": "ipython",
    "version": 3
   },
   "file_extension": ".py",
   "mimetype": "text/x-python",
   "name": "python",
   "nbconvert_exporter": "python",
   "pygments_lexer": "ipython3",
   "version": "3.10.8"
  }
 },
 "nbformat": 4,
 "nbformat_minor": 5
}
